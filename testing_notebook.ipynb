{
 "cells": [
  {
   "cell_type": "code",
   "execution_count": 1,
   "metadata": {},
   "outputs": [],
   "source": [
    "%load_ext autoreload\n",
    "%autoreload 2\n",
    "\n"
   ]
  },
  {
   "cell_type": "code",
   "execution_count": 2,
   "metadata": {},
   "outputs": [
    {
     "name": "stderr",
     "output_type": "stream",
     "text": [
      "/home/salvatore.milite/miniconda3/envs/scdeepaa/lib/python3.11/site-packages/tqdm/auto.py:21: TqdmWarning: IProgress not found. Please update jupyter and ipywidgets. See https://ipywidgets.readthedocs.io/en/stable/user_install.html\n",
      "  from .autonotebook import tqdm as notebook_tqdm\n"
     ]
    }
   ],
   "source": [
    "import torch\n",
    "import pyro\n",
    "from pyro.optim import Adam, ClippedAdam\n",
    "import congas as cg\n",
    "from congas.models import LatentCategorical\n",
    "from pyro.infer import TraceMeanField_ELBO,TraceEnum_ELBO, TraceGraph_ELBO, Trace_ELBO\n",
    "torch.set_default_tensor_type('torch.cuda.FloatTensor')"
   ]
  },
  {
   "cell_type": "code",
   "execution_count": 3,
   "metadata": {
    "pycharm": {
     "name": "#%%\n"
    }
   },
   "outputs": [],
   "source": [
    "import pickle\n",
    "\n",
    "data_file = open(\"data.pkl\",'rb')\n",
    "\n",
    "data = pickle.loads(data_file.read())\n",
    "data_file.close()\n",
    "\n",
    "param_file =  open(\"parameters.pkl\",'rb')\n",
    "\n",
    "param = pickle.loads(param_file.read())\n",
    "param_file.close()\n",
    "\n",
    "\n",
    "interface = cg.Interface(CUDA = True)"
   ]
  },
  {
   "cell_type": "code",
   "execution_count": 4,
   "metadata": {},
   "outputs": [
    {
     "data": {
      "text/plain": [
       "{'probs': tensor([0.2000, 0.6000, 0.0500, 0.0250, 0.0250], device='cpu'),\n",
       " 'init_probs': 0.6,\n",
       " 'purity': 0.48,\n",
       " 'theta_shape_atac': tensor([12.4963, 16.6187,  4.3866,  9.7522], device='cpu'),\n",
       " 'theta_rate_atac': tensor([0.0135, 0.0067, 0.0125, 0.0125], device='cpu'),\n",
       " 'nb_size_init_atac': tensor([150., 150., 150., 150.], device='cpu'),\n",
       " 'likelihood_atac': 'NB',\n",
       " 'a': 0.1,\n",
       " 'b': 100.0,\n",
       " 'lambda': 0.0,\n",
       " 'hidden_dim': 5,\n",
       " 'binom_prior_limits': [40.0, 1000.0],\n",
       " 'equal_sizes_sd': True,\n",
       " 'Temperature': 20.0,\n",
       " 'K': [1, 2, 3],\n",
       " 'latent_type': 'G'}"
      ]
     },
     "execution_count": 4,
     "metadata": {},
     "output_type": "execute_result"
    }
   ],
   "source": [
    "param"
   ]
  },
  {
   "cell_type": "code",
   "execution_count": 5,
   "metadata": {
    "pycharm": {
     "name": "#%%\n"
    }
   },
   "outputs": [
    {
     "data": {
      "text/plain": [
       "{'atac': {'exp': array([[ 235., 1048.,  268., ...,  437.,  650.,  872.],\n",
       "         [ 232.,  481.,  187., ...,  231.,  164.,  193.],\n",
       "         [ 682.,  181.,  677., ...,  156.,  107.,  550.],\n",
       "         ...,\n",
       "         [  57.,  112.,  130., ...,  101.,  386.,   55.],\n",
       "         [ 223.,  147.,  154., ...,  274.,  213.,  455.],\n",
       "         [ 389.,  107.,  201., ...,  139.,  212.,  225.]]),\n",
       "  'MAF': array([[0.25757086, 0.43895297, 0.39015632, ..., 0.50143799, 0.40552971,\n",
       "          0.45961821],\n",
       "         [0.38259681, 0.48456466, 0.37160218, ..., 0.22721365, 0.35204687,\n",
       "          0.46875249],\n",
       "         [0.51091586, 0.37702521, 0.45929178, ..., 0.41399496, 0.42624313,\n",
       "          0.28206325],\n",
       "         ...,\n",
       "         [0.32702018, 0.34648236, 0.31799088, ..., 0.25316452, 0.33604643,\n",
       "          0.33607663],\n",
       "         [0.41066895, 0.35950444, 0.29118441, ..., 0.28865367, 0.30410748,\n",
       "          0.36543362],\n",
       "         [0.2412723 , 0.33319388, 0.3266506 , ..., 0.44785145, 0.22827509,\n",
       "          0.31391053]]),\n",
       "  'labels': array([0, 0, 0, ..., 2, 2, 2]),\n",
       "  'norm_factors': array([ 2.54189527, 10.03503107,  3.0247542 , ...,  2.78051862,\n",
       "          2.78428288,  2.95201066]),\n",
       "  'theta_shape_atac': array([10., 10., 10., 10., 10., 10., 10., 10., 10., 10.]),\n",
       "  'theta_rate_atac': array([0.5, 0.5, 0.5, 0.5, 0.5, 0.5, 0.5, 0.5, 0.5, 0.5])},\n",
       " 'rna': {'exp': array([[ 731.,  551.,  314., ...,  280.,  164., 1319.],\n",
       "         [ 258.,  362.,   57., ...,   68., 1871., 1518.],\n",
       "         [ 387.,  663.,  879., ..., 2098., 1277., 1020.],\n",
       "         ...,\n",
       "         [ 142.,  230.,  182., ...,   64.,  131.,   46.],\n",
       "         [ 162.,  134.,   27., ...,  210.,  240.,   73.],\n",
       "         [  96.,  454.,   46., ...,  106.,  165.,  201.]]),\n",
       "  'MAF': array([[0.43055809, 0.36950191, 0.49284404, ..., 0.37358595, 0.41362136,\n",
       "          0.42685849],\n",
       "         [0.37127321, 0.27834439, 0.38620098, ..., 0.32258979, 0.41640655,\n",
       "          0.53861369],\n",
       "         [0.31239848, 0.30717653, 0.34077497, ..., 0.41683424, 0.29231626,\n",
       "          0.36269925],\n",
       "         ...,\n",
       "         [0.        , 0.        , 0.        , ..., 0.        , 0.        ,\n",
       "          0.        ],\n",
       "         [0.        , 0.        , 0.        , ..., 0.        , 0.        ,\n",
       "          0.        ],\n",
       "         [0.        , 0.        , 0.        , ..., 0.        , 0.        ,\n",
       "          0.        ]]),\n",
       "  'labels': array([0, 0, 0, ..., 2, 2, 2]),\n",
       "  'norm_factors': array([5.2223544 , 2.93582868, 1.71620315, ..., 1.90296446, 4.85861294,\n",
       "         5.87409082]),\n",
       "  'theta_shape_rna': array([20., 20., 20., 20., 20., 20., 20., 20., 20., 20.]),\n",
       "  'theta_rate_rna': array([0.5, 0.5, 0.5, 0.5, 0.5, 0.5, 0.5, 0.5, 0.5, 0.5])},\n",
       " 'CNA_subclones': {'Major':    0  1  2  3  4  5  6  7  8  9\n",
       "  0  3  1  2  4  1  1  1  2  2  4\n",
       "  1  3  4  2  2  3  2  4  3  1  1\n",
       "  2  1  2  4  3  1  3  2  3  3  3,\n",
       "  'minor':    0  1  2  3  4  5  6  7  8  9\n",
       "  0  2  0  1  0  0  0  0  1  1  2\n",
       "  1  1  0  0  1  1  0  0  2  0  0\n",
       "  2  0  1  0  1  0  0  1  0  2  1,\n",
       "  'total':    0  1  2  3  4  5  6  7  8  9\n",
       "  0  5  1  3  4  1  1  1  3  3  6\n",
       "  1  4  4  2  3  4  2  4  5  1  1\n",
       "  2  1  3  4  4  1  3  3  3  5  4},\n",
       " 'CNA_bulk':    Major  minor  total\n",
       " 0    3.0    1.0    4.0\n",
       " 1    3.0    0.0    3.0\n",
       " 2    2.0    0.0    2.0\n",
       " 3    3.0    1.0    4.0\n",
       " 4    2.0    0.0    2.0\n",
       " 5    2.0    0.0    2.0\n",
       " 6    3.0    0.0    3.0\n",
       " 7    3.0    1.0    4.0\n",
       " 8    2.0    1.0    3.0\n",
       " 9    2.0    1.0    3.0,\n",
       " 'hyperparams': {'ncells': 1500, 'is_multiome': False}}"
      ]
     },
     "execution_count": 5,
     "metadata": {},
     "output_type": "execute_result"
    }
   ],
   "source": [
    "sim_data = cg.simulate_data_congas()\n",
    "sim_data"
   ]
  },
  {
   "cell_type": "code",
   "execution_count": null,
   "metadata": {},
   "outputs": [],
   "source": []
  },
  {
   "cell_type": "code",
   "execution_count": 6,
   "metadata": {},
   "outputs": [],
   "source": [
    "data = {\n",
    "    \"data_atac\" : torch.tensor(sim_data[\"atac\"][\"exp\"]).T.float(),\n",
    "    \"data_rna\" : torch.tensor(sim_data[\"rna\"][\"exp\"]).T.float(),\n",
    "    \"norm_factor_atac\" : torch.tensor(sim_data[\"atac\"][\"norm_factors\"]).float(),\n",
    "    \"norm_factor_rna\" : torch.tensor(sim_data[\"rna\"][\"norm_factors\"]).float(),\n",
    "    \"pld\" : torch.tensor(sim_data['CNA_bulk']['total'].values).float(), \n",
    "}"
   ]
  },
  {
   "cell_type": "code",
   "execution_count": 7,
   "metadata": {
    "pycharm": {
     "name": "#%%\n"
    }
   },
   "outputs": [],
   "source": [
    "param[\"binom_prior_limits\"] = torch.tensor([10,1000])\n",
    "param[\"theta_shape_atac\"] = torch.tensor(sim_data[\"atac\"][\"theta_shape_atac\"]).float()\n",
    "param[\"theta_rate_atac\"] = torch.tensor(sim_data[\"atac\"][\"theta_rate_atac\"]).float()\n",
    "param[\"theta_shape_rna\"] = torch.tensor(sim_data[\"rna\"][\"theta_shape_rna\"]).float()\n",
    "param[\"theta_rate_rna\"] = torch.tensor(sim_data[\"rna\"][\"theta_rate_rna\"]).float()\n",
    "param['nb_size_init_atac'] = torch.tensor([150., 150., 150., 150.])\n",
    "param[\"K\"] = 1\n",
    "param['probs'] = torch.tensor([0.2000, 0.6000, 0.0500, 0.0250, 0.0250])\n",
    "param[\"likelihood_atac\"] = \"NB\"\n",
    "param[\"likelihood_rna\"] = \"NB\"\n",
    "param[\"temperature\"] = 10\n",
    "param[\"lambda\"] = 1\n",
    "param[\"purity\"] = None\n",
    "param[\"nb_size_init_atac\"] = torch.ones(10) * 150\n",
    "param[\"nb_size_init_rna\"] = torch.ones(10) * 150\n",
    "param[\"CUDA\"] = True\n"
   ]
  },
  {
   "cell_type": "code",
   "execution_count": 8,
   "metadata": {},
   "outputs": [
    {
     "data": {
      "text/plain": [
       "{'data_atac': tensor([[ 235.,  232.,  682.,  ...,   57.,  223.,  389.],\n",
       "         [1048.,  481.,  181.,  ...,  112.,  147.,  107.],\n",
       "         [ 268.,  187.,  677.,  ...,  130.,  154.,  201.],\n",
       "         ...,\n",
       "         [ 437.,  231.,  156.,  ...,  101.,  274.,  139.],\n",
       "         [ 650.,  164.,  107.,  ...,  386.,  213.,  212.],\n",
       "         [ 872.,  193.,  550.,  ...,   55.,  455.,  225.]]),\n",
       " 'data_rna': tensor([[ 731.,  258.,  387.,  ...,  142.,  162.,   96.],\n",
       "         [ 551.,  362.,  663.,  ...,  230.,  134.,  454.],\n",
       "         [ 314.,   57.,  879.,  ...,  182.,   27.,   46.],\n",
       "         ...,\n",
       "         [ 280.,   68., 2098.,  ...,   64.,  210.,  106.],\n",
       "         [ 164., 1871., 1277.,  ...,  131.,  240.,  165.],\n",
       "         [1319., 1518., 1020.,  ...,   46.,   73.,  201.]]),\n",
       " 'norm_factor_atac': tensor([ 2.5419, 10.0350,  3.0248,  ...,  2.7805,  2.7843,  2.9520]),\n",
       " 'norm_factor_rna': tensor([5.2224, 2.9358, 1.7162,  ..., 1.9030, 4.8586, 5.8741]),\n",
       " 'pld': tensor([4., 3., 2., 4., 2., 2., 3., 4., 3., 3.])}"
      ]
     },
     "execution_count": 8,
     "metadata": {},
     "output_type": "execute_result"
    }
   ],
   "source": [
    "data"
   ]
  },
  {
   "cell_type": "code",
   "execution_count": 9,
   "metadata": {
    "pycharm": {
     "name": "#%%\n"
    }
   },
   "outputs": [],
   "source": [
    "interface.set_model(LatentCategorical)\n",
    "interface.set_optimizer(ClippedAdam)\n",
    "interface.set_loss(Trace_ELBO)\n",
    "interface.initialize_model(data)\n",
    "interface.set_model_params(param)\n"
   ]
  },
  {
   "cell_type": "code",
   "execution_count": 10,
   "metadata": {
    "pycharm": {
     "name": "#%%\n"
    }
   },
   "outputs": [
    {
     "name": "stderr",
     "output_type": "stream",
     "text": [
      "ELBO: 3.419012395  : 100%|██████████| 200/200 [00:02<00:00, 82.74it/s]"
     ]
    },
    {
     "name": "stdout",
     "output_type": "stream",
     "text": [
      "\n",
      "Done!\n"
     ]
    },
    {
     "name": "stderr",
     "output_type": "stream",
     "text": [
      "\n"
     ]
    }
   ],
   "source": [
    "ll = interface.run(steps = 200, param_optimizer = {\"lr\":0.1})\n",
    "\n"
   ]
  },
  {
   "cell_type": "code",
   "execution_count": 12,
   "metadata": {
    "pycharm": {
     "name": "#%%\n"
    }
   },
   "outputs": [
    {
     "name": "stdout",
     "output_type": "stream",
     "text": [
      "\n",
      "Computing assignment probabilities\n",
      "Computing information criteria.\n",
      "tensor(-205154.0625, grad_fn=<SumBackward0>)\n",
      "tensor(-1101797.6250, grad_fn=<SumBackward0>)\n"
     ]
    }
   ],
   "source": [
    "\n",
    "import numpy as np\n",
    "\n",
    "\n",
    "lr = interface.learned_parameters()\n",
    "ICs = interface.calculate_ICs()"
   ]
  },
  {
   "cell_type": "code",
   "execution_count": null,
   "metadata": {
    "pycharm": {
     "name": "#%%\n"
    }
   },
   "outputs": [],
   "source": [
    "\n",
    "data[\"data_atac\"][0,:].mean()"
   ]
  },
  {
   "cell_type": "code",
   "execution_count": null,
   "metadata": {
    "pycharm": {
     "name": "#%%\n"
    }
   },
   "outputs": [],
   "source": [
    "from congas import log_sum_exp\n",
    "lk_atac = lk_atac + torch.log(lr_t[\"mixture_weights_atac\"]).reshape([2,1,1])"
   ]
  },
  {
   "cell_type": "code",
   "execution_count": null,
   "metadata": {
    "pycharm": {
     "name": "#%%\n"
    }
   },
   "outputs": [],
   "source": [
    "torch.exp(lk_atac - log_sum_exp(lk_atac))"
   ]
  },
  {
   "cell_type": "code",
   "execution_count": null,
   "metadata": {
    "pycharm": {
     "name": "#%%\n"
    }
   },
   "outputs": [],
   "source": [
    "np.sum(lr[\"assignment_atac\"] == 0)"
   ]
  },
  {
   "cell_type": "code",
   "execution_count": null,
   "metadata": {
    "pycharm": {
     "name": "#%%\n"
    }
   },
   "outputs": [],
   "source": [
    "data"
   ]
  },
  {
   "cell_type": "code",
   "execution_count": null,
   "metadata": {},
   "outputs": [],
   "source": []
  }
 ],
 "metadata": {
  "kernelspec": {
   "display_name": "Python [conda env:scdeepaa]",
   "language": "python",
   "name": "conda-env-scdeepaa-py"
  },
  "language_info": {
   "codemirror_mode": {
    "name": "ipython",
    "version": 3
   },
   "file_extension": ".py",
   "mimetype": "text/x-python",
   "name": "python",
   "nbconvert_exporter": "python",
   "pygments_lexer": "ipython3",
   "version": "3.11.3"
  }
 },
 "nbformat": 4,
 "nbformat_minor": 1
}
